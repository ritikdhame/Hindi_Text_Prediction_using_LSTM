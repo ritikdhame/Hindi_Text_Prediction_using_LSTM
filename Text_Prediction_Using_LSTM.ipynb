{
  "nbformat": 4,
  "nbformat_minor": 0,
  "metadata": {
    "colab": {
      "provenance": [],
      "gpuType": "T4"
    },
    "kernelspec": {
      "name": "python3",
      "display_name": "Python 3"
    },
    "language_info": {
      "name": "python"
    },
    "accelerator": "GPU"
  },
  "cells": [
    {
      "cell_type": "markdown",
      "source": [
        "# Importing Dependencies "
      ],
      "metadata": {
        "id": "4SFxa8PgAF9u"
      }
    },
    {
      "cell_type": "code",
      "execution_count": 1,
      "metadata": {
        "id": "wPi7RbukPh-g"
      },
      "outputs": [],
      "source": [
        "\n",
        "from keras.models import Sequential\n",
        "from keras.layers import Dense, Dropout, LSTM\n",
        "from keras.optimizers import RMSprop\n",
        "import numpy as np\n",
        "import random\n",
        "import sys\n"
      ]
    },
    {
      "cell_type": "code",
      "source": [
        "#Loading the text\n",
        "filename = \"/content/chankya neeti.txt\"\n",
        "raw_text = open(filename, 'r', encoding='utf-8').read()\n",
        "raw_text = raw_text.lower()\n",
        "print(raw_text[0:1000])"
      ],
      "metadata": {
        "colab": {
          "base_uri": "https://localhost:8080/"
        },
        "id": "LF6mIxZ7ALLD",
        "outputId": "7aae96e0-e2c2-4618-fe29-e8bd44fca6fd"
      },
      "execution_count": 2,
      "outputs": [
        {
          "output_type": "stream",
          "name": "stdout",
          "text": [
            "“1.1 सर्वशक्तिमान तीनो लोको के स्वामी श्री विष्णु भगवान को शीश नवाकर मै अनेक शास्त्रों से निकाले गए राजनीति सार के तत्व को जन कल्याण हेतु समाज के सम्मुख रखता हूं”\n",
            "“1.2 इस राजनीति शास्त्र का विधिपूर्वक अध्ययन करके यह जाना जा सकता है कि कौनसा कार्य करना चाहिए और कौनसा कार्य नहीं करना चाहिए। यह जानकर वह एक प्रकार से धर्मोपदेश प्राप्त करता है कि किस कार्य के करने से अच्छा परिणाम निकलेगा और किससे बुरा। उसे अच्छे बुरे का ज्ञान हो जाता है”\n",
            "“1.3 इसलिए जनता की भलाई के लिए, मैं वह बात कहूंगा, जो जब समझ में आएगी, तब उनके उचित परिप्रेक्ष्य में चीजों की समझ पैदा होगी”\n",
            "“1.4 यहां तक ​​कि एक पंडित एक मूर्ख शिष्य को निर्देश देता है, एक दुष्ट पत्नी को बनाए रखने से, और दुखी के साथ अत्यधिक परिचित होने से”\n",
            "“1.5 दुष्ट स्त्री, छल करने वाला मित्र, पलटकर कर तीखा जवाब देने वाला नौकर तथा जिस घर में सांप रहता हो, उस घर में निवास करने वाले गृहस्वामी की मौत में संशय न करे। वह निश्चित मृत्यु को प्राप्त होता है। – चाणक्य नीति”\n",
            "“1.6 विपत्ति के समय काम आने वाले धन की रक्षा करे। धन से स्त्री की रक्षा करे और अपनी रक्षा ध\n"
          ]
        }
      ]
    },
    {
      "cell_type": "markdown",
      "source": [
        "# Pre-Processing"
      ],
      "metadata": {
        "id": "kRnqFLIjC3_T"
      }
    },
    {
      "cell_type": "code",
      "source": [
        "#CLEAN TEXT\n",
        "#Remove numbers\n",
        "raw_text = ''.join(c for c in raw_text if not c.isdigit())\n",
        "\n",
        "#How many total characters do we have in our training text?\n",
        "chars = sorted(list(set(raw_text))) #List of every character\n",
        "\n",
        "#Character sequences must be encoded as integers. \n",
        "#Each unique character will be assigned an integer value. \n",
        "#Create a dictionary of characters mapped to integer values\n",
        "char_to_int = dict((c, i) for i, c in enumerate(chars))\n",
        "\n",
        "#Do the reverse so we can print our predictions in characters and not integers\n",
        "int_to_char = dict((i, c) for i, c in enumerate(chars))"
      ],
      "metadata": {
        "id": "xBwC_thwBiMe"
      },
      "execution_count": 3,
      "outputs": []
    },
    {
      "cell_type": "markdown",
      "source": [
        "# Data Exploration"
      ],
      "metadata": {
        "id": "_mU-NqZrHG2U"
      }
    },
    {
      "cell_type": "code",
      "source": [
        "# summarize the data\n",
        "n_chars = len(raw_text)\n",
        "n_vocab = len(chars)\n",
        "print(\"Total Characters in the text; corpus length: \", n_chars)\n",
        "print(\"Total Vocab: \", n_vocab)\n"
      ],
      "metadata": {
        "colab": {
          "base_uri": "https://localhost:8080/"
        },
        "id": "EbLijafDCwcN",
        "outputId": "76a1a878-da33-42e6-f559-1a1b557c59a1"
      },
      "execution_count": 4,
      "outputs": [
        {
          "output_type": "stream",
          "name": "stdout",
          "text": [
            "Total Characters in the text; corpus length:  45245\n",
            "Total Vocab:  79\n"
          ]
        }
      ]
    },
    {
      "cell_type": "code",
      "source": [
        "from re import X\n",
        "#Now that we have characters we can create input/output sequences for training\n",
        "#Remember that for LSTM input and output can be sequences... hence the term seq2seq\n",
        "\n",
        "\n",
        "seq_length = 60  #Length of each input sequence\n",
        "step = 10   #Instead of moving 1 letter at a time, here we are trying to skipping a few. \n",
        "sentences = []    # X values (Sentences)\n",
        "next_chars = []   # Y values. The character that follows the sentence defined as X\n",
        "for i in range(0, n_chars - seq_length, step):  #step=1 means each sentence is offset just by a single letter\n",
        "    sentences.append(raw_text[i: i + seq_length])  #Sequence in\n",
        "    next_chars.append(raw_text[i + seq_length])  #Sequence out\n",
        "n_patterns = len(sentences)    \n",
        "print('Number of sequences:', n_patterns)\n",
        "\n"
      ],
      "metadata": {
        "colab": {
          "base_uri": "https://localhost:8080/"
        },
        "id": "azSryvMEHJe0",
        "outputId": "5cb3be4d-474f-49d5-d105-2b201e3ec088"
      },
      "execution_count": 5,
      "outputs": [
        {
          "output_type": "stream",
          "name": "stdout",
          "text": [
            "Number of sequences: 4519\n"
          ]
        }
      ]
    },
    {
      "cell_type": "markdown",
      "source": [
        "Just like time series, X is the sequence / sentence and y is the next value that comes after the sentence... \n",
        "reshape input to be [samples, time steps, features]\n",
        "time steps = sequence length, features = numbers of characters in our vocab (n_vocab)\n",
        "Vectorize all sentences: there are n_patterns sentences.\n",
        "For each sentence we have n_vocab characters available for seq_length\n",
        "Vectorization returns a vector for all sentences indicating the presence or absence of a character. "
      ],
      "metadata": {
        "id": "ZjIc852PJkFD"
      }
    },
    {
      "cell_type": "code",
      "source": [
        "x = np.zeros((len(sentences), seq_length, n_vocab), dtype=np.bool)\n",
        "y = np.zeros((len(sentences), n_vocab), dtype=np.bool)\n",
        "for i, sentence in enumerate(sentences):\n",
        "    for t, char in enumerate(sentence):\n",
        "        x[i, t, char_to_int[char]] = 1\n",
        "    y[i, char_to_int[next_chars[i]]] = 1\n",
        "    \n",
        "print(x.shape)\n",
        "print(y.shape)\n",
        "\n",
        "#print(y[0:10]) commenting this because it will take too much space it is like one hot encoding for first 10 charecters"
      ],
      "metadata": {
        "colab": {
          "base_uri": "https://localhost:8080/"
        },
        "id": "jXqJb_ZxMFdj",
        "outputId": "f514fc3a-985a-412d-c18e-39e2406cb843"
      },
      "execution_count": 6,
      "outputs": [
        {
          "output_type": "stream",
          "name": "stderr",
          "text": [
            "<ipython-input-6-07e6c2a1329d>:1: DeprecationWarning: `np.bool` is a deprecated alias for the builtin `bool`. To silence this warning, use `bool` by itself. Doing this will not modify any behavior and is safe. If you specifically wanted the numpy scalar type, use `np.bool_` here.\n",
            "Deprecated in NumPy 1.20; for more details and guidance: https://numpy.org/devdocs/release/1.20.0-notes.html#deprecations\n",
            "  x = np.zeros((len(sentences), seq_length, n_vocab), dtype=np.bool)\n",
            "<ipython-input-6-07e6c2a1329d>:2: DeprecationWarning: `np.bool` is a deprecated alias for the builtin `bool`. To silence this warning, use `bool` by itself. Doing this will not modify any behavior and is safe. If you specifically wanted the numpy scalar type, use `np.bool_` here.\n",
            "Deprecated in NumPy 1.20; for more details and guidance: https://numpy.org/devdocs/release/1.20.0-notes.html#deprecations\n",
            "  y = np.zeros((len(sentences), n_vocab), dtype=np.bool)\n"
          ]
        },
        {
          "output_type": "stream",
          "name": "stdout",
          "text": [
            "(4519, 60, 79)\n",
            "(4519, 79)\n"
          ]
        }
      ]
    },
    {
      "cell_type": "markdown",
      "source": [
        "# Single LSTM"
      ],
      "metadata": {
        "id": "cZrnl6ceRjst"
      }
    },
    {
      "cell_type": "code",
      "source": [
        "#Basic model with one LSTM\n",
        "# build the model: a single LSTM\n",
        "\n",
        "model = Sequential()\n",
        "model.add(LSTM(128, input_shape=(seq_length, n_vocab)))\n",
        "model.add(Dense(n_vocab, activation='softmax'))\n",
        "\n",
        "optimizer = RMSprop(lr=0.01)\n",
        "model.compile(loss='categorical_crossentropy', optimizer=optimizer)\n",
        "model.summary()"
      ],
      "metadata": {
        "colab": {
          "base_uri": "https://localhost:8080/"
        },
        "id": "tju0ZZrpRJF_",
        "outputId": "05a90b26-4a18-47e1-d2fd-e4b13e40ed21"
      },
      "execution_count": 7,
      "outputs": [
        {
          "output_type": "stream",
          "name": "stdout",
          "text": [
            "Model: \"sequential\"\n",
            "_________________________________________________________________\n",
            " Layer (type)                Output Shape              Param #   \n",
            "=================================================================\n",
            " lstm (LSTM)                 (None, 128)               106496    \n",
            "                                                                 \n",
            " dense (Dense)               (None, 79)                10191     \n",
            "                                                                 \n",
            "=================================================================\n",
            "Total params: 116,687\n",
            "Trainable params: 116,687\n",
            "Non-trainable params: 0\n",
            "_________________________________________________________________\n"
          ]
        },
        {
          "output_type": "stream",
          "name": "stderr",
          "text": [
            "/usr/local/lib/python3.10/dist-packages/keras/optimizers/legacy/rmsprop.py:143: UserWarning: The `lr` argument is deprecated, use `learning_rate` instead.\n",
            "  super().__init__(name, **kwargs)\n"
          ]
        }
      ]
    },
    {
      "cell_type": "code",
      "source": [
        "# define the checkpoint\n",
        "from keras.callbacks import ModelCheckpoint\n",
        "\n",
        "filepath=\"saved_weights/saved_weights-{epoch:02d}-{loss:.4f}.hdf5\"\n",
        "checkpoint = ModelCheckpoint(filepath, monitor='loss', verbose=1, save_best_only=True, mode='min')\n",
        "\n",
        "callbacks_list = [checkpoint]\n",
        "\n",
        "\n",
        "# Fit the model\n",
        "\n",
        "history = model.fit(x, y,\n",
        "          batch_size=128,\n",
        "          epochs=60,   \n",
        "          callbacks=callbacks_list)\n",
        "\n",
        "model.save('my_saved_weights_hindi_60epochs.h5')"
      ],
      "metadata": {
        "colab": {
          "base_uri": "https://localhost:8080/"
        },
        "id": "F7tLUEdMRZy2",
        "outputId": "5711bc45-b5cf-402e-d2ee-c62dca2c8e02"
      },
      "execution_count": 8,
      "outputs": [
        {
          "output_type": "stream",
          "name": "stdout",
          "text": [
            "Epoch 1/60\n",
            "33/36 [==========================>...] - ETA: 0s - loss: 3.4910\n",
            "Epoch 1: loss improved from inf to 3.46150, saving model to saved_weights/saved_weights-01-3.4615.hdf5\n",
            "36/36 [==============================] - 7s 11ms/step - loss: 3.4615\n",
            "Epoch 2/60\n",
            "29/36 [=======================>......] - ETA: 0s - loss: 2.8756\n",
            "Epoch 2: loss improved from 3.46150 to 2.85099, saving model to saved_weights/saved_weights-02-2.8510.hdf5\n",
            "36/36 [==============================] - 0s 8ms/step - loss: 2.8510\n",
            "Epoch 3/60\n",
            "32/36 [=========================>....] - ETA: 0s - loss: 2.5203\n",
            "Epoch 3: loss improved from 2.85099 to 2.50942, saving model to saved_weights/saved_weights-03-2.5094.hdf5\n",
            "36/36 [==============================] - 0s 7ms/step - loss: 2.5094\n",
            "Epoch 4/60\n",
            "33/36 [==========================>...] - ETA: 0s - loss: 2.3287\n",
            "Epoch 4: loss improved from 2.50942 to 2.32549, saving model to saved_weights/saved_weights-04-2.3255.hdf5\n",
            "36/36 [==============================] - 0s 7ms/step - loss: 2.3255\n",
            "Epoch 5/60\n",
            "33/36 [==========================>...] - ETA: 0s - loss: 2.1732\n",
            "Epoch 5: loss improved from 2.32549 to 2.17878, saving model to saved_weights/saved_weights-05-2.1788.hdf5\n",
            "36/36 [==============================] - 0s 7ms/step - loss: 2.1788\n",
            "Epoch 6/60\n",
            "34/36 [===========================>..] - ETA: 0s - loss: 2.0296\n",
            "Epoch 6: loss improved from 2.17878 to 2.03618, saving model to saved_weights/saved_weights-06-2.0362.hdf5\n",
            "36/36 [==============================] - 0s 7ms/step - loss: 2.0362\n",
            "Epoch 7/60\n",
            "33/36 [==========================>...] - ETA: 0s - loss: 1.8882\n",
            "Epoch 7: loss improved from 2.03618 to 1.89348, saving model to saved_weights/saved_weights-07-1.8935.hdf5\n",
            "36/36 [==============================] - 0s 8ms/step - loss: 1.8935\n",
            "Epoch 8/60\n",
            "31/36 [========================>.....] - ETA: 0s - loss: 1.7695\n",
            "Epoch 8: loss improved from 1.89348 to 1.75593, saving model to saved_weights/saved_weights-08-1.7559.hdf5\n",
            "36/36 [==============================] - 0s 10ms/step - loss: 1.7559\n",
            "Epoch 9/60\n",
            "32/36 [=========================>....] - ETA: 0s - loss: 1.6021\n",
            "Epoch 9: loss improved from 1.75593 to 1.61142, saving model to saved_weights/saved_weights-09-1.6114.hdf5\n",
            "36/36 [==============================] - 0s 9ms/step - loss: 1.6114\n",
            "Epoch 10/60\n",
            "35/36 [============================>.] - ETA: 0s - loss: 1.4300\n",
            "Epoch 10: loss improved from 1.61142 to 1.43124, saving model to saved_weights/saved_weights-10-1.4312.hdf5\n",
            "36/36 [==============================] - 0s 9ms/step - loss: 1.4312\n",
            "Epoch 11/60\n",
            "32/36 [=========================>....] - ETA: 0s - loss: 1.2614\n",
            "Epoch 11: loss improved from 1.43124 to 1.26397, saving model to saved_weights/saved_weights-11-1.2640.hdf5\n",
            "36/36 [==============================] - 0s 9ms/step - loss: 1.2640\n",
            "Epoch 12/60\n",
            "36/36 [==============================] - ETA: 0s - loss: 1.0981\n",
            "Epoch 12: loss improved from 1.26397 to 1.09807, saving model to saved_weights/saved_weights-12-1.0981.hdf5\n",
            "36/36 [==============================] - 0s 8ms/step - loss: 1.0981\n",
            "Epoch 13/60\n",
            "36/36 [==============================] - ETA: 0s - loss: 0.9328\n",
            "Epoch 13: loss improved from 1.09807 to 0.93285, saving model to saved_weights/saved_weights-13-0.9328.hdf5\n",
            "36/36 [==============================] - 0s 9ms/step - loss: 0.9328\n",
            "Epoch 14/60\n",
            "30/36 [========================>.....] - ETA: 0s - loss: 0.7725\n",
            "Epoch 14: loss improved from 0.93285 to 0.77572, saving model to saved_weights/saved_weights-14-0.7757.hdf5\n",
            "36/36 [==============================] - 0s 10ms/step - loss: 0.7757\n",
            "Epoch 15/60\n",
            "32/36 [=========================>....] - ETA: 0s - loss: 0.6561\n",
            "Epoch 15: loss improved from 0.77572 to 0.65423, saving model to saved_weights/saved_weights-15-0.6542.hdf5\n",
            "36/36 [==============================] - 0s 9ms/step - loss: 0.6542\n",
            "Epoch 16/60\n",
            "33/36 [==========================>...] - ETA: 0s - loss: 0.5337\n",
            "Epoch 16: loss improved from 0.65423 to 0.53742, saving model to saved_weights/saved_weights-16-0.5374.hdf5\n",
            "36/36 [==============================] - 0s 7ms/step - loss: 0.5374\n",
            "Epoch 17/60\n",
            "31/36 [========================>.....] - ETA: 0s - loss: 0.4543\n",
            "Epoch 17: loss improved from 0.53742 to 0.46148, saving model to saved_weights/saved_weights-17-0.4615.hdf5\n",
            "36/36 [==============================] - 0s 8ms/step - loss: 0.4615\n",
            "Epoch 18/60\n",
            "33/36 [==========================>...] - ETA: 0s - loss: 0.3833\n",
            "Epoch 18: loss improved from 0.46148 to 0.38505, saving model to saved_weights/saved_weights-18-0.3851.hdf5\n",
            "36/36 [==============================] - 0s 7ms/step - loss: 0.3851\n",
            "Epoch 19/60\n",
            "34/36 [===========================>..] - ETA: 0s - loss: 0.3375\n",
            "Epoch 19: loss improved from 0.38505 to 0.33973, saving model to saved_weights/saved_weights-19-0.3397.hdf5\n",
            "36/36 [==============================] - 0s 7ms/step - loss: 0.3397\n",
            "Epoch 20/60\n",
            "32/36 [=========================>....] - ETA: 0s - loss: 0.2905\n",
            "Epoch 20: loss improved from 0.33973 to 0.29585, saving model to saved_weights/saved_weights-20-0.2959.hdf5\n",
            "36/36 [==============================] - 0s 7ms/step - loss: 0.2959\n",
            "Epoch 21/60\n",
            "32/36 [=========================>....] - ETA: 0s - loss: 0.2422\n",
            "Epoch 21: loss improved from 0.29585 to 0.25343, saving model to saved_weights/saved_weights-21-0.2534.hdf5\n",
            "36/36 [==============================] - 0s 7ms/step - loss: 0.2534\n",
            "Epoch 22/60\n",
            "32/36 [=========================>....] - ETA: 0s - loss: 0.2320\n",
            "Epoch 22: loss improved from 0.25343 to 0.23620, saving model to saved_weights/saved_weights-22-0.2362.hdf5\n",
            "36/36 [==============================] - 0s 7ms/step - loss: 0.2362\n",
            "Epoch 23/60\n",
            "33/36 [==========================>...] - ETA: 0s - loss: 0.2129\n",
            "Epoch 23: loss improved from 0.23620 to 0.21506, saving model to saved_weights/saved_weights-23-0.2151.hdf5\n",
            "36/36 [==============================] - 0s 7ms/step - loss: 0.2151\n",
            "Epoch 24/60\n",
            "33/36 [==========================>...] - ETA: 0s - loss: 0.1803\n",
            "Epoch 24: loss improved from 0.21506 to 0.18575, saving model to saved_weights/saved_weights-24-0.1857.hdf5\n",
            "36/36 [==============================] - 0s 7ms/step - loss: 0.1857\n",
            "Epoch 25/60\n",
            "32/36 [=========================>....] - ETA: 0s - loss: 0.1710\n",
            "Epoch 25: loss improved from 0.18575 to 0.17839, saving model to saved_weights/saved_weights-25-0.1784.hdf5\n",
            "36/36 [==============================] - 0s 7ms/step - loss: 0.1784\n",
            "Epoch 26/60\n",
            "34/36 [===========================>..] - ETA: 0s - loss: 0.1778\n",
            "Epoch 26: loss did not improve from 0.17839\n",
            "36/36 [==============================] - 0s 7ms/step - loss: 0.1792\n",
            "Epoch 27/60\n",
            "33/36 [==========================>...] - ETA: 0s - loss: 0.1588\n",
            "Epoch 27: loss improved from 0.17839 to 0.16087, saving model to saved_weights/saved_weights-27-0.1609.hdf5\n",
            "36/36 [==============================] - 0s 7ms/step - loss: 0.1609\n",
            "Epoch 28/60\n",
            "33/36 [==========================>...] - ETA: 0s - loss: 0.1423\n",
            "Epoch 28: loss improved from 0.16087 to 0.14738, saving model to saved_weights/saved_weights-28-0.1474.hdf5\n",
            "36/36 [==============================] - 0s 7ms/step - loss: 0.1474\n",
            "Epoch 29/60\n",
            "32/36 [=========================>....] - ETA: 0s - loss: 0.1484\n",
            "Epoch 29: loss did not improve from 0.14738\n",
            "36/36 [==============================] - 0s 7ms/step - loss: 0.1532\n",
            "Epoch 30/60\n",
            "33/36 [==========================>...] - ETA: 0s - loss: 0.1390\n",
            "Epoch 30: loss improved from 0.14738 to 0.14106, saving model to saved_weights/saved_weights-30-0.1411.hdf5\n",
            "36/36 [==============================] - 0s 7ms/step - loss: 0.1411\n",
            "Epoch 31/60\n",
            "32/36 [=========================>....] - ETA: 0s - loss: 0.1590\n",
            "Epoch 31: loss did not improve from 0.14106\n",
            "36/36 [==============================] - 0s 7ms/step - loss: 0.1643\n",
            "Epoch 32/60\n",
            "35/36 [============================>.] - ETA: 0s - loss: 0.1409\n",
            "Epoch 32: loss did not improve from 0.14106\n",
            "36/36 [==============================] - 0s 8ms/step - loss: 0.1416\n",
            "Epoch 33/60\n",
            "31/36 [========================>.....] - ETA: 0s - loss: 0.1276\n",
            "Epoch 33: loss improved from 0.14106 to 0.13341, saving model to saved_weights/saved_weights-33-0.1334.hdf5\n",
            "36/36 [==============================] - 0s 7ms/step - loss: 0.1334\n",
            "Epoch 34/60\n",
            "36/36 [==============================] - ETA: 0s - loss: 0.1253\n",
            "Epoch 34: loss improved from 0.13341 to 0.12533, saving model to saved_weights/saved_weights-34-0.1253.hdf5\n",
            "36/36 [==============================] - 0s 8ms/step - loss: 0.1253\n",
            "Epoch 35/60\n",
            "31/36 [========================>.....] - ETA: 0s - loss: 0.1195\n",
            "Epoch 35: loss improved from 0.12533 to 0.12488, saving model to saved_weights/saved_weights-35-0.1249.hdf5\n",
            "36/36 [==============================] - 0s 7ms/step - loss: 0.1249\n",
            "Epoch 36/60\n",
            "32/36 [=========================>....] - ETA: 0s - loss: 0.1334\n",
            "Epoch 36: loss did not improve from 0.12488\n",
            "36/36 [==============================] - 0s 7ms/step - loss: 0.1385\n",
            "Epoch 37/60\n",
            "33/36 [==========================>...] - ETA: 0s - loss: 0.1142\n",
            "Epoch 37: loss improved from 0.12488 to 0.11550, saving model to saved_weights/saved_weights-37-0.1155.hdf5\n",
            "36/36 [==============================] - 0s 7ms/step - loss: 0.1155\n",
            "Epoch 38/60\n",
            "33/36 [==========================>...] - ETA: 0s - loss: 0.1314\n",
            "Epoch 38: loss did not improve from 0.11550\n",
            "36/36 [==============================] - 0s 7ms/step - loss: 0.1308\n",
            "Epoch 39/60\n",
            "33/36 [==========================>...] - ETA: 0s - loss: 0.0995\n",
            "Epoch 39: loss improved from 0.11550 to 0.11095, saving model to saved_weights/saved_weights-39-0.1110.hdf5\n",
            "36/36 [==============================] - 0s 7ms/step - loss: 0.1110\n",
            "Epoch 40/60\n",
            "32/36 [=========================>....] - ETA: 0s - loss: 0.1190\n",
            "Epoch 40: loss did not improve from 0.11095\n",
            "36/36 [==============================] - 0s 7ms/step - loss: 0.1203\n",
            "Epoch 41/60\n",
            "33/36 [==========================>...] - ETA: 0s - loss: 0.1229\n",
            "Epoch 41: loss did not improve from 0.11095\n",
            "36/36 [==============================] - 0s 7ms/step - loss: 0.1224\n",
            "Epoch 42/60\n",
            "33/36 [==========================>...] - ETA: 0s - loss: 0.1001\n",
            "Epoch 42: loss improved from 0.11095 to 0.10386, saving model to saved_weights/saved_weights-42-0.1039.hdf5\n",
            "36/36 [==============================] - 0s 7ms/step - loss: 0.1039\n",
            "Epoch 43/60\n",
            "32/36 [=========================>....] - ETA: 0s - loss: 0.1113\n",
            "Epoch 43: loss did not improve from 0.10386\n",
            "36/36 [==============================] - 0s 7ms/step - loss: 0.1182\n",
            "Epoch 44/60\n",
            "31/36 [========================>.....] - ETA: 0s - loss: 0.1019\n",
            "Epoch 44: loss did not improve from 0.10386\n",
            "36/36 [==============================] - 0s 7ms/step - loss: 0.1069\n",
            "Epoch 45/60\n",
            "33/36 [==========================>...] - ETA: 0s - loss: 0.0958\n",
            "Epoch 45: loss improved from 0.10386 to 0.09963, saving model to saved_weights/saved_weights-45-0.0996.hdf5\n",
            "36/36 [==============================] - 0s 7ms/step - loss: 0.0996\n",
            "Epoch 46/60\n",
            "32/36 [=========================>....] - ETA: 0s - loss: 0.1154\n",
            "Epoch 46: loss did not improve from 0.09963\n",
            "36/36 [==============================] - 0s 7ms/step - loss: 0.1163\n",
            "Epoch 47/60\n",
            "33/36 [==========================>...] - ETA: 0s - loss: 0.0924\n",
            "Epoch 47: loss improved from 0.09963 to 0.09504, saving model to saved_weights/saved_weights-47-0.0950.hdf5\n",
            "36/36 [==============================] - 0s 7ms/step - loss: 0.0950\n",
            "Epoch 48/60\n",
            "32/36 [=========================>....] - ETA: 0s - loss: 0.0909\n",
            "Epoch 48: loss improved from 0.09504 to 0.09198, saving model to saved_weights/saved_weights-48-0.0920.hdf5\n",
            "36/36 [==============================] - 0s 7ms/step - loss: 0.0920\n",
            "Epoch 49/60\n",
            "33/36 [==========================>...] - ETA: 0s - loss: 0.0938\n",
            "Epoch 49: loss did not improve from 0.09198\n",
            "36/36 [==============================] - 0s 7ms/step - loss: 0.0965\n",
            "Epoch 50/60\n",
            "33/36 [==========================>...] - ETA: 0s - loss: 0.0963\n",
            "Epoch 50: loss did not improve from 0.09198\n",
            "36/36 [==============================] - 0s 7ms/step - loss: 0.0971\n",
            "Epoch 51/60\n",
            "31/36 [========================>.....] - ETA: 0s - loss: 0.0998\n",
            "Epoch 51: loss did not improve from 0.09198\n",
            "36/36 [==============================] - 0s 7ms/step - loss: 0.1052\n",
            "Epoch 52/60\n",
            "30/36 [========================>.....] - ETA: 0s - loss: 0.1018\n",
            "Epoch 52: loss did not improve from 0.09198\n",
            "36/36 [==============================] - 0s 7ms/step - loss: 0.1101\n",
            "Epoch 53/60\n",
            "34/36 [===========================>..] - ETA: 0s - loss: 0.1034\n",
            "Epoch 53: loss did not improve from 0.09198\n",
            "36/36 [==============================] - 0s 8ms/step - loss: 0.1052\n",
            "Epoch 54/60\n",
            "34/36 [===========================>..] - ETA: 0s - loss: 0.0812\n",
            "Epoch 54: loss improved from 0.09198 to 0.08336, saving model to saved_weights/saved_weights-54-0.0834.hdf5\n",
            "36/36 [==============================] - 0s 9ms/step - loss: 0.0834\n",
            "Epoch 55/60\n",
            "34/36 [===========================>..] - ETA: 0s - loss: 0.0834\n",
            "Epoch 55: loss improved from 0.08336 to 0.08202, saving model to saved_weights/saved_weights-55-0.0820.hdf5\n",
            "36/36 [==============================] - 0s 9ms/step - loss: 0.0820\n",
            "Epoch 56/60\n",
            "33/36 [==========================>...] - ETA: 0s - loss: 0.0877\n",
            "Epoch 56: loss did not improve from 0.08202\n",
            "36/36 [==============================] - 0s 9ms/step - loss: 0.0873\n",
            "Epoch 57/60\n",
            "35/36 [============================>.] - ETA: 0s - loss: 0.0724\n",
            "Epoch 57: loss improved from 0.08202 to 0.07196, saving model to saved_weights/saved_weights-57-0.0720.hdf5\n",
            "36/36 [==============================] - 0s 9ms/step - loss: 0.0720\n",
            "Epoch 58/60\n",
            "33/36 [==========================>...] - ETA: 0s - loss: 0.0760\n",
            "Epoch 58: loss did not improve from 0.07196\n",
            "36/36 [==============================] - 0s 9ms/step - loss: 0.0766\n",
            "Epoch 59/60\n",
            "34/36 [===========================>..] - ETA: 0s - loss: 0.0885\n",
            "Epoch 59: loss did not improve from 0.07196\n",
            "36/36 [==============================] - 0s 9ms/step - loss: 0.0925\n",
            "Epoch 60/60\n",
            "34/36 [===========================>..] - ETA: 0s - loss: 0.0890\n",
            "Epoch 60: loss did not improve from 0.07196\n",
            "36/36 [==============================] - 0s 9ms/step - loss: 0.0917\n"
          ]
        }
      ]
    },
    {
      "cell_type": "code",
      "source": [
        "#Tracking loos function \n",
        "from matplotlib import pyplot as plt\n",
        "#plot the training and validation accuracy and loss at each epoch\n",
        "loss = history.history['loss']\n",
        "epochs = range(1, len(loss) + 1)\n",
        "plt.plot(epochs, loss, 'y', label='Training loss')\n",
        "plt.title('Training loss')\n",
        "plt.xlabel('Epochs')\n",
        "plt.ylabel('Loss')\n",
        "plt.legend()\n",
        "plt.show()"
      ],
      "metadata": {
        "colab": {
          "base_uri": "https://localhost:8080/",
          "height": 472
        },
        "id": "FxqdP-1bSF1j",
        "outputId": "6fb75729-8a43-4d58-d422-18121705026b"
      },
      "execution_count": 9,
      "outputs": [
        {
          "output_type": "display_data",
          "data": {
            "text/plain": [
              "<Figure size 640x480 with 1 Axes>"
            ],
            "image/png": "[encoded data removed]"
          },
          "metadata": {}
        }
      ]
    },
    {
      "cell_type": "code",
      "source": [
        "#Generate characters \n",
        "#We must provide a sequence of seq_lenth as input to start the generation process\n",
        "#The prediction results is probabilities for each of the 103 characters at a specific\n",
        "#point in sequence. Let us pick the one with max probability and print it out.\n",
        "#Writing our own softmax function....\n",
        "def sample(preds):\n",
        "    preds = np.asarray(preds).astype('float64')\n",
        "    preds = np.log(preds)\n",
        "    exp_preds = np.exp(preds) #exp of log (x), isn't this same as x??\n",
        "    preds = exp_preds / np.sum(exp_preds)\n",
        "    probas = np.random.multinomial(1, preds, 1) \n",
        "    return np.argmax(probas)\n"
      ],
      "metadata": {
        "id": "QymUgjT-SQGC"
      },
      "execution_count": 10,
      "outputs": []
    },
    {
      "cell_type": "code",
      "source": [
        "#Prediction\n",
        "#setting the seed\n",
        "# load the network weights\n",
        "filename = \"my_saved_weights_hindi_60epochs.h5\"\n",
        "model.load_weights(filename)\n",
        "\n",
        "#Pick a random sentence from the text as seed.\n",
        "start_index = random.randint(0, n_chars - seq_length - 1)\n",
        "\n",
        "#Initiate generated text and keep adding new predictions and print them out\n",
        "generated = ''\n",
        "sentence = raw_text[start_index: start_index + seq_length]\n",
        "generated += sentence\n",
        "\n",
        "print('----- Seed for our text prediction: \"' + sentence + '\"')\n",
        "#sys.stdout.write(generated)"
      ],
      "metadata": {
        "colab": {
          "base_uri": "https://localhost:8080/"
        },
        "id": "bP31_r-SU89I",
        "outputId": "39482a37-515a-4e44-a04b-f6b743ba3b6d"
      },
      "execution_count": 11,
      "outputs": [
        {
          "output_type": "stream",
          "name": "stdout",
          "text": [
            "----- Seed for our text prediction: \"ै।\n",
            ".: अभ्यास में नहीं लगाए गए शास्त्रों के पाठ जहर हैं; भोजन\"\n"
          ]
        }
      ]
    },
    {
      "cell_type": "code",
      "source": [
        "# predicting the next 400 charecters\n",
        "for i in range(400):   # Number of characters including spaces\n",
        "    x_pred = np.zeros((1, seq_length, n_vocab))\n",
        "    for t, char in enumerate(sentence):\n",
        "        x_pred[0, t, char_to_int[char]] = 1.\n",
        "\n",
        "    preds = model.predict(x_pred, verbose=0)[0]\n",
        "    next_index = sample(preds)\n",
        "    next_char = int_to_char[next_index]\n",
        "\n",
        "    generated += next_char\n",
        "    sentence = sentence[1:] + next_char\n",
        "\n",
        "    sys.stdout.write(next_char)\n",
        "    sys.stdout.flush()\n",
        "print()\n"
      ],
      "metadata": {
        "colab": {
          "base_uri": "https://localhost:8080/"
        },
        "id": "A7nu2jwQVcjk",
        "outputId": "4eb55ebf-b623-4ca3-8c93-823fbe72691d"
      },
      "execution_count": 12,
      "outputs": [
        {
          "output_type": "stream",
          "name": "stdout",
          "text": [
            " उसके लोगो सब में यदि बुदुष्य टाथ यह मरने वृ व्यक्ति  पाए एक एक बलत्रुण जो डपने पर्ता है, उसका ब्रभी भी निश मेश नोीं ौन|”\n",
            "“.:बादा रोज्यान प फवान रो कुम फर धन होते है|”\n",
            "“.:विसे सब बचयलग की मऔर मनिसे विल कर्ण से मालता है. यह भो वहीर हो जल मने परता है, उसकी अपने स्वबश्ति को होती और उसका मिव्य मभू धन उती भाए दिसबे सब गुव्या शरे को में मेन मनुश नहीं पढिया उसके अपनी प्तब राणान करे. ए. एक धिसी पर्बशते सी\n"
          ]
        }
      ]
    },
    {
      "cell_type": "markdown",
      "source": [
        "#Stacked LSTM \n"
      ],
      "metadata": {
        "id": "2s_AGxwJWGtZ"
      }
    },
    {
      "cell_type": "code",
      "source": [
        "# Deeper model woth 2 LSTM\n",
        "#To stack LSTM layers, we need to change the configuration of the prior \n",
        "#LSTM layer to output a 3D array as input for the subsequent layer.\n",
        "#We can do this by setting the return_sequences argument on the layer to True \n",
        "#(defaults to False). This will return one output for each input time step and provide a 3D array.\n",
        "#Below is the same example as above with return_sequences=True.\n",
        "\n",
        "model = Sequential()\n",
        "model.add(LSTM(128, input_shape=(seq_length, n_vocab), return_sequences=True))\n",
        "model.add(Dropout(0.2))\n",
        "model.add(LSTM(128))\n",
        "model.add(Dropout(0.2))\n",
        "model.add(Dense(n_vocab, activation='softmax'))\n",
        "\n",
        "optimizer = RMSprop(lr=0.01)\n",
        "model.compile(loss='categorical_crossentropy', optimizer=optimizer)\n",
        "model.summary()\n"
      ],
      "metadata": {
        "colab": {
          "base_uri": "https://localhost:8080/"
        },
        "id": "yPusbjGdWOEm",
        "outputId": "23c774dc-d43c-4d12-b30b-fa73e0ae6cb8"
      },
      "execution_count": 13,
      "outputs": [
        {
          "output_type": "stream",
          "name": "stdout",
          "text": [
            "Model: \"sequential_1\"\n",
            "_________________________________________________________________\n",
            " Layer (type)                Output Shape              Param #   \n",
            "=================================================================\n",
            " lstm_1 (LSTM)               (None, 60, 128)           106496    \n",
            "                                                                 \n",
            " dropout (Dropout)           (None, 60, 128)           0         \n",
            "                                                                 \n",
            " lstm_2 (LSTM)               (None, 128)               131584    \n",
            "                                                                 \n",
            " dropout_1 (Dropout)         (None, 128)               0         \n",
            "                                                                 \n",
            " dense_1 (Dense)             (None, 79)                10191     \n",
            "                                                                 \n",
            "=================================================================\n",
            "Total params: 248,271\n",
            "Trainable params: 248,271\n",
            "Non-trainable params: 0\n",
            "_________________________________________________________________\n"
          ]
        }
      ]
    },
    {
      "cell_type": "code",
      "source": [
        "# define the checkpoint\n",
        "from keras.callbacks import ModelCheckpoint\n",
        "\n",
        "filepath=\"saved_weights/saved_weights2-{epoch:02d}-{loss:.4f}.hdf5\"\n",
        "checkpoint = ModelCheckpoint(filepath, monitor='loss', verbose=1, save_best_only=True, mode='min')\n",
        "\n",
        "callbacks_list = [checkpoint]\n",
        "\n",
        "\n",
        "# Fit the model\n",
        "\n",
        "history2 = model.fit(x, y,\n",
        "          batch_size=128,\n",
        "          epochs=60,   \n",
        "          callbacks=callbacks_list)\n",
        "\n",
        "model.save('my_saved_weights_hindi2_60epochs.h5')"
      ],
      "metadata": {
        "colab": {
          "base_uri": "https://localhost:8080/"
        },
        "id": "vFnix0S-WuLU",
        "outputId": "4ca46d7b-0b07-4301-e1cb-314809558e7c"
      },
      "execution_count": 14,
      "outputs": [
        {
          "output_type": "stream",
          "name": "stdout",
          "text": [
            "Epoch 1/60\n",
            "36/36 [==============================] - ETA: 0s - loss: 3.6786\n",
            "Epoch 1: loss improved from inf to 3.67862, saving model to saved_weights/saved_weights2-01-3.6786.hdf5\n",
            "36/36 [==============================] - 4s 18ms/step - loss: 3.6786\n",
            "Epoch 2/60\n",
            "34/36 [===========================>..] - ETA: 0s - loss: 3.2084\n",
            "Epoch 2: loss improved from 3.67862 to 3.20377, saving model to saved_weights/saved_weights2-02-3.2038.hdf5\n",
            "36/36 [==============================] - 1s 23ms/step - loss: 3.2038\n",
            "Epoch 3/60\n",
            "36/36 [==============================] - ETA: 0s - loss: 2.7971\n",
            "Epoch 3: loss improved from 3.20377 to 2.79708, saving model to saved_weights/saved_weights2-03-2.7971.hdf5\n",
            "36/36 [==============================] - 1s 25ms/step - loss: 2.7971\n",
            "Epoch 4/60\n",
            "35/36 [============================>.] - ETA: 0s - loss: 2.5529\n",
            "Epoch 4: loss improved from 2.79708 to 2.55014, saving model to saved_weights/saved_weights2-04-2.5501.hdf5\n",
            "36/36 [==============================] - 1s 28ms/step - loss: 2.5501\n",
            "Epoch 5/60\n",
            "34/36 [===========================>..] - ETA: 0s - loss: 2.3737\n",
            "Epoch 5: loss improved from 2.55014 to 2.36814, saving model to saved_weights/saved_weights2-05-2.3681.hdf5\n",
            "36/36 [==============================] - 1s 18ms/step - loss: 2.3681\n",
            "Epoch 6/60\n",
            "35/36 [============================>.] - ETA: 0s - loss: 2.2265\n",
            "Epoch 6: loss improved from 2.36814 to 2.22439, saving model to saved_weights/saved_weights2-06-2.2244.hdf5\n",
            "36/36 [==============================] - 0s 12ms/step - loss: 2.2244\n",
            "Epoch 7/60\n",
            "36/36 [==============================] - ETA: 0s - loss: 2.0670\n",
            "Epoch 7: loss improved from 2.22439 to 2.06703, saving model to saved_weights/saved_weights2-07-2.0670.hdf5\n",
            "36/36 [==============================] - 0s 12ms/step - loss: 2.0670\n",
            "Epoch 8/60\n",
            "34/36 [===========================>..] - ETA: 0s - loss: 1.9163\n",
            "Epoch 8: loss improved from 2.06703 to 1.92071, saving model to saved_weights/saved_weights2-08-1.9207.hdf5\n",
            "36/36 [==============================] - 0s 12ms/step - loss: 1.9207\n",
            "Epoch 9/60\n",
            "36/36 [==============================] - ETA: 0s - loss: 1.7745\n",
            "Epoch 9: loss improved from 1.92071 to 1.77447, saving model to saved_weights/saved_weights2-09-1.7745.hdf5\n",
            "36/36 [==============================] - 0s 12ms/step - loss: 1.7745\n",
            "Epoch 10/60\n",
            "36/36 [==============================] - ETA: 0s - loss: 1.6086\n",
            "Epoch 10: loss improved from 1.77447 to 1.60860, saving model to saved_weights/saved_weights2-10-1.6086.hdf5\n",
            "36/36 [==============================] - 0s 12ms/step - loss: 1.6086\n",
            "Epoch 11/60\n",
            "35/36 [============================>.] - ETA: 0s - loss: 1.4693\n",
            "Epoch 11: loss improved from 1.60860 to 1.47169, saving model to saved_weights/saved_weights2-11-1.4717.hdf5\n",
            "36/36 [==============================] - 0s 12ms/step - loss: 1.4717\n",
            "Epoch 12/60\n",
            "36/36 [==============================] - ETA: 0s - loss: 1.3165\n",
            "Epoch 12: loss improved from 1.47169 to 1.31646, saving model to saved_weights/saved_weights2-12-1.3165.hdf5\n",
            "36/36 [==============================] - 0s 12ms/step - loss: 1.3165\n",
            "Epoch 13/60\n",
            "35/36 [============================>.] - ETA: 0s - loss: 1.1979\n",
            "Epoch 13: loss improved from 1.31646 to 1.19778, saving model to saved_weights/saved_weights2-13-1.1978.hdf5\n",
            "36/36 [==============================] - 0s 12ms/step - loss: 1.1978\n",
            "Epoch 14/60\n",
            "36/36 [==============================] - ETA: 0s - loss: 1.0671\n",
            "Epoch 14: loss improved from 1.19778 to 1.06715, saving model to saved_weights/saved_weights2-14-1.0671.hdf5\n",
            "36/36 [==============================] - 0s 12ms/step - loss: 1.0671\n",
            "Epoch 15/60\n",
            "36/36 [==============================] - ETA: 0s - loss: 0.9475\n",
            "Epoch 15: loss improved from 1.06715 to 0.94751, saving model to saved_weights/saved_weights2-15-0.9475.hdf5\n",
            "36/36 [==============================] - 0s 12ms/step - loss: 0.9475\n",
            "Epoch 16/60\n",
            "36/36 [==============================] - ETA: 0s - loss: 0.8612\n",
            "Epoch 16: loss improved from 0.94751 to 0.86116, saving model to saved_weights/saved_weights2-16-0.8612.hdf5\n",
            "36/36 [==============================] - 0s 12ms/step - loss: 0.8612\n",
            "Epoch 17/60\n",
            "36/36 [==============================] - ETA: 0s - loss: 0.7437\n",
            "Epoch 17: loss improved from 0.86116 to 0.74374, saving model to saved_weights/saved_weights2-17-0.7437.hdf5\n",
            "36/36 [==============================] - 0s 12ms/step - loss: 0.7437\n",
            "Epoch 18/60\n",
            "36/36 [==============================] - ETA: 0s - loss: 0.6864\n",
            "Epoch 18: loss improved from 0.74374 to 0.68639, saving model to saved_weights/saved_weights2-18-0.6864.hdf5\n",
            "36/36 [==============================] - 0s 12ms/step - loss: 0.6864\n",
            "Epoch 19/60\n",
            "36/36 [==============================] - ETA: 0s - loss: 0.6156\n",
            "Epoch 19: loss improved from 0.68639 to 0.61559, saving model to saved_weights/saved_weights2-19-0.6156.hdf5\n",
            "36/36 [==============================] - 0s 12ms/step - loss: 0.6156\n",
            "Epoch 20/60\n",
            "34/36 [===========================>..] - ETA: 0s - loss: 0.5566\n",
            "Epoch 20: loss improved from 0.61559 to 0.55827, saving model to saved_weights/saved_weights2-20-0.5583.hdf5\n",
            "36/36 [==============================] - 0s 12ms/step - loss: 0.5583\n",
            "Epoch 21/60\n",
            "36/36 [==============================] - ETA: 0s - loss: 0.5450\n",
            "Epoch 21: loss improved from 0.55827 to 0.54501, saving model to saved_weights/saved_weights2-21-0.5450.hdf5\n",
            "36/36 [==============================] - 0s 12ms/step - loss: 0.5450\n",
            "Epoch 22/60\n",
            "35/36 [============================>.] - ETA: 0s - loss: 0.4746\n",
            "Epoch 22: loss improved from 0.54501 to 0.47390, saving model to saved_weights/saved_weights2-22-0.4739.hdf5\n",
            "36/36 [==============================] - 0s 12ms/step - loss: 0.4739\n",
            "Epoch 23/60\n",
            "36/36 [==============================] - ETA: 0s - loss: 0.4619\n",
            "Epoch 23: loss improved from 0.47390 to 0.46194, saving model to saved_weights/saved_weights2-23-0.4619.hdf5\n",
            "36/36 [==============================] - 0s 12ms/step - loss: 0.4619\n",
            "Epoch 24/60\n",
            "36/36 [==============================] - ETA: 0s - loss: 0.4046\n",
            "Epoch 24: loss improved from 0.46194 to 0.40457, saving model to saved_weights/saved_weights2-24-0.4046.hdf5\n",
            "36/36 [==============================] - 0s 12ms/step - loss: 0.4046\n",
            "Epoch 25/60\n",
            "36/36 [==============================] - ETA: 0s - loss: 0.3891\n",
            "Epoch 25: loss improved from 0.40457 to 0.38906, saving model to saved_weights/saved_weights2-25-0.3891.hdf5\n",
            "36/36 [==============================] - 0s 12ms/step - loss: 0.3891\n",
            "Epoch 26/60\n",
            "36/36 [==============================] - ETA: 0s - loss: 0.3655\n",
            "Epoch 26: loss improved from 0.38906 to 0.36550, saving model to saved_weights/saved_weights2-26-0.3655.hdf5\n",
            "36/36 [==============================] - 0s 12ms/step - loss: 0.3655\n",
            "Epoch 27/60\n",
            "35/36 [============================>.] - ETA: 0s - loss: 0.3552\n",
            "Epoch 27: loss improved from 0.36550 to 0.35798, saving model to saved_weights/saved_weights2-27-0.3580.hdf5\n",
            "36/36 [==============================] - 1s 16ms/step - loss: 0.3580\n",
            "Epoch 28/60\n",
            "33/36 [==========================>...] - ETA: 0s - loss: 0.3426\n",
            "Epoch 28: loss improved from 0.35798 to 0.34350, saving model to saved_weights/saved_weights2-28-0.3435.hdf5\n",
            "36/36 [==============================] - 1s 14ms/step - loss: 0.3435\n",
            "Epoch 29/60\n",
            "35/36 [============================>.] - ETA: 0s - loss: 0.3382\n",
            "Epoch 29: loss improved from 0.34350 to 0.33925, saving model to saved_weights/saved_weights2-29-0.3392.hdf5\n",
            "36/36 [==============================] - 1s 16ms/step - loss: 0.3392\n",
            "Epoch 30/60\n",
            "33/36 [==========================>...] - ETA: 0s - loss: 0.3022\n",
            "Epoch 30: loss improved from 0.33925 to 0.30665, saving model to saved_weights/saved_weights2-30-0.3066.hdf5\n",
            "36/36 [==============================] - 1s 16ms/step - loss: 0.3066\n",
            "Epoch 31/60\n",
            "32/36 [=========================>....] - ETA: 0s - loss: 0.2999\n",
            "Epoch 31: loss did not improve from 0.30665\n",
            "36/36 [==============================] - 1s 14ms/step - loss: 0.3085\n",
            "Epoch 32/60\n",
            "33/36 [==========================>...] - ETA: 0s - loss: 0.2887\n",
            "Epoch 32: loss improved from 0.30665 to 0.29444, saving model to saved_weights/saved_weights2-32-0.2944.hdf5\n",
            "36/36 [==============================] - 0s 13ms/step - loss: 0.2944\n",
            "Epoch 33/60\n",
            "35/36 [============================>.] - ETA: 0s - loss: 0.2992\n",
            "Epoch 33: loss did not improve from 0.29444\n",
            "36/36 [==============================] - 0s 11ms/step - loss: 0.2998\n",
            "Epoch 34/60\n",
            "36/36 [==============================] - ETA: 0s - loss: 0.2740\n",
            "Epoch 34: loss improved from 0.29444 to 0.27397, saving model to saved_weights/saved_weights2-34-0.2740.hdf5\n",
            "36/36 [==============================] - 0s 12ms/step - loss: 0.2740\n",
            "Epoch 35/60\n",
            "35/36 [============================>.] - ETA: 0s - loss: 0.2767\n",
            "Epoch 35: loss did not improve from 0.27397\n",
            "36/36 [==============================] - 0s 11ms/step - loss: 0.2782\n",
            "Epoch 36/60\n",
            "35/36 [============================>.] - ETA: 0s - loss: 0.2843\n",
            "Epoch 36: loss did not improve from 0.27397\n",
            "36/36 [==============================] - 0s 11ms/step - loss: 0.2831\n",
            "Epoch 37/60\n",
            "36/36 [==============================] - ETA: 0s - loss: 0.2782\n",
            "Epoch 37: loss did not improve from 0.27397\n",
            "36/36 [==============================] - 0s 11ms/step - loss: 0.2782\n",
            "Epoch 38/60\n",
            "36/36 [==============================] - ETA: 0s - loss: 0.2793\n",
            "Epoch 38: loss did not improve from 0.27397\n",
            "36/36 [==============================] - 0s 11ms/step - loss: 0.2793\n",
            "Epoch 39/60\n",
            "35/36 [============================>.] - ETA: 0s - loss: 0.2374\n",
            "Epoch 39: loss improved from 0.27397 to 0.23746, saving model to saved_weights/saved_weights2-39-0.2375.hdf5\n",
            "36/36 [==============================] - 0s 12ms/step - loss: 0.2375\n",
            "Epoch 40/60\n",
            "35/36 [============================>.] - ETA: 0s - loss: 0.2601\n",
            "Epoch 40: loss did not improve from 0.23746\n",
            "36/36 [==============================] - 0s 12ms/step - loss: 0.2601\n",
            "Epoch 41/60\n",
            "35/36 [============================>.] - ETA: 0s - loss: 0.2491\n",
            "Epoch 41: loss did not improve from 0.23746\n",
            "36/36 [==============================] - 0s 11ms/step - loss: 0.2519\n",
            "Epoch 42/60\n",
            "36/36 [==============================] - ETA: 0s - loss: 0.2407\n",
            "Epoch 42: loss did not improve from 0.23746\n",
            "36/36 [==============================] - 0s 11ms/step - loss: 0.2407\n",
            "Epoch 43/60\n",
            "34/36 [===========================>..] - ETA: 0s - loss: 0.2556\n",
            "Epoch 43: loss did not improve from 0.23746\n",
            "36/36 [==============================] - 0s 12ms/step - loss: 0.2542\n",
            "Epoch 44/60\n",
            "36/36 [==============================] - ETA: 0s - loss: 0.2565\n",
            "Epoch 44: loss did not improve from 0.23746\n",
            "36/36 [==============================] - 0s 11ms/step - loss: 0.2565\n",
            "Epoch 45/60\n",
            "36/36 [==============================] - ETA: 0s - loss: 0.2307\n",
            "Epoch 45: loss improved from 0.23746 to 0.23068, saving model to saved_weights/saved_weights2-45-0.2307.hdf5\n",
            "36/36 [==============================] - 0s 12ms/step - loss: 0.2307\n",
            "Epoch 46/60\n",
            "36/36 [==============================] - ETA: 0s - loss: 0.2254\n",
            "Epoch 46: loss improved from 0.23068 to 0.22540, saving model to saved_weights/saved_weights2-46-0.2254.hdf5\n",
            "36/36 [==============================] - 0s 12ms/step - loss: 0.2254\n",
            "Epoch 47/60\n",
            "35/36 [============================>.] - ETA: 0s - loss: 0.2351\n",
            "Epoch 47: loss did not improve from 0.22540\n",
            "36/36 [==============================] - 0s 11ms/step - loss: 0.2367\n",
            "Epoch 48/60\n",
            "36/36 [==============================] - ETA: 0s - loss: 0.2453\n",
            "Epoch 48: loss did not improve from 0.22540\n",
            "36/36 [==============================] - 0s 11ms/step - loss: 0.2453\n",
            "Epoch 49/60\n",
            "36/36 [==============================] - ETA: 0s - loss: 0.2211\n",
            "Epoch 49: loss improved from 0.22540 to 0.22108, saving model to saved_weights/saved_weights2-49-0.2211.hdf5\n",
            "36/36 [==============================] - 0s 12ms/step - loss: 0.2211\n",
            "Epoch 50/60\n",
            "36/36 [==============================] - ETA: 0s - loss: 0.2296\n",
            "Epoch 50: loss did not improve from 0.22108\n",
            "36/36 [==============================] - 0s 11ms/step - loss: 0.2296\n",
            "Epoch 51/60\n",
            "36/36 [==============================] - ETA: 0s - loss: 0.2246\n",
            "Epoch 51: loss did not improve from 0.22108\n",
            "36/36 [==============================] - 0s 11ms/step - loss: 0.2246\n",
            "Epoch 52/60\n",
            "36/36 [==============================] - ETA: 0s - loss: 0.2180\n",
            "Epoch 52: loss improved from 0.22108 to 0.21804, saving model to saved_weights/saved_weights2-52-0.2180.hdf5\n",
            "36/36 [==============================] - 0s 12ms/step - loss: 0.2180\n",
            "Epoch 53/60\n",
            "34/36 [===========================>..] - ETA: 0s - loss: 0.2085\n",
            "Epoch 53: loss improved from 0.21804 to 0.21009, saving model to saved_weights/saved_weights2-53-0.2101.hdf5\n",
            "36/36 [==============================] - 0s 13ms/step - loss: 0.2101\n",
            "Epoch 54/60\n",
            "36/36 [==============================] - ETA: 0s - loss: 0.2111\n",
            "Epoch 54: loss did not improve from 0.21009\n",
            "36/36 [==============================] - 0s 11ms/step - loss: 0.2111\n",
            "Epoch 55/60\n",
            "35/36 [============================>.] - ETA: 0s - loss: 0.2061\n",
            "Epoch 55: loss improved from 0.21009 to 0.20624, saving model to saved_weights/saved_weights2-55-0.2062.hdf5\n",
            "36/36 [==============================] - 0s 14ms/step - loss: 0.2062\n",
            "Epoch 56/60\n",
            "35/36 [============================>.] - ETA: 0s - loss: 0.2172\n",
            "Epoch 56: loss did not improve from 0.20624\n",
            "36/36 [==============================] - 0s 12ms/step - loss: 0.2162\n",
            "Epoch 57/60\n",
            "34/36 [===========================>..] - ETA: 0s - loss: 0.2138\n",
            "Epoch 57: loss did not improve from 0.20624\n",
            "36/36 [==============================] - 0s 13ms/step - loss: 0.2165\n",
            "Epoch 58/60\n",
            "33/36 [==========================>...] - ETA: 0s - loss: 0.1918\n",
            "Epoch 58: loss improved from 0.20624 to 0.19660, saving model to saved_weights/saved_weights2-58-0.1966.hdf5\n",
            "36/36 [==============================] - 0s 13ms/step - loss: 0.1966\n",
            "Epoch 59/60\n",
            "33/36 [==========================>...] - ETA: 0s - loss: 0.1985\n",
            "Epoch 59: loss did not improve from 0.19660\n",
            "36/36 [==============================] - 0s 13ms/step - loss: 0.2024\n",
            "Epoch 60/60\n",
            "33/36 [==========================>...] - ETA: 0s - loss: 0.2007\n",
            "Epoch 60: loss did not improve from 0.19660\n",
            "36/36 [==============================] - 1s 14ms/step - loss: 0.2020\n"
          ]
        }
      ]
    },
    {
      "cell_type": "code",
      "source": [
        "#Tracking loos function \n",
        "import matplotlib.pyplot as plt\n",
        "\n",
        "# Get the loss values from the training history\n",
        "loss = history2.history['loss']\n",
        "\n",
        "# Create a plot of the loss over epochs\n",
        "plt.plot(loss)\n",
        "plt.title('Model Loss')\n",
        "plt.xlabel('Epoch')\n",
        "plt.ylabel('Loss')\n",
        "plt.show()"
      ],
      "metadata": {
        "colab": {
          "base_uri": "https://localhost:8080/",
          "height": 472
        },
        "id": "oG9v0J9YXH1f",
        "outputId": "e220100c-2be4-4133-c4cd-c8c4c452c552"
      },
      "execution_count": 18,
      "outputs": [
        {
          "output_type": "display_data",
          "data": {
            "text/plain": [
              "<Figure size 640x480 with 1 Axes>"
            ],
            "image/png": "[encoded data removed]"
          },
          "metadata": {}
        }
      ]
    },
    {
      "cell_type": "code",
      "source": [
        "#Generate characters \n",
        "#We must provide a sequence of seq_lenth as input to start the generation process\n",
        "#The prediction results is probabilities for each of the 103 characters at a specific\n",
        "#point in sequence. Let us pick the one with max probability and print it out.\n",
        "#Writing our own softmax function....\n",
        "def sample(preds):\n",
        "    preds = np.asarray(preds).astype('float64')\n",
        "    preds = np.log(preds)\n",
        "    exp_preds = np.exp(preds) #exp of log (x), isn't this same as x??\n",
        "    preds = exp_preds / np.sum(exp_preds)\n",
        "    probas = np.random.multinomial(1, preds, 1) \n",
        "    return np.argmax(probas)\n"
      ],
      "metadata": {
        "id": "akzSdHx4Z17l"
      },
      "execution_count": 20,
      "outputs": []
    },
    {
      "cell_type": "code",
      "source": [
        "#Prediction\n",
        "#setting the seed\n",
        "# load the network weights\n",
        "filename = \"my_saved_weights_hindi2_60epochs.h5\"\n",
        "model.load_weights(filename)\n",
        "\n",
        "#Pick a random sentence from the text as seed.\n",
        "start_index = random.randint(0, n_chars - seq_length - 1)\n",
        "\n",
        "#Initiate generated text and keep adding new predictions and print them out\n",
        "generated = ''\n",
        "sentence = raw_text[start_index: start_index + seq_length]\n",
        "generated += sentence\n",
        "\n",
        "print('----- Seed for our text prediction: \"' + sentence + '\"')\n",
        "#sys.stdout.write(generated)"
      ],
      "metadata": {
        "colab": {
          "base_uri": "https://localhost:8080/"
        },
        "id": "loo-F1XAaAe9",
        "outputId": "c2596a47-09cb-45e1-aaa2-d246c636621e"
      },
      "execution_count": 21,
      "outputs": [
        {
          "output_type": "stream",
          "name": "stdout",
          "text": [
            "----- Seed for our text prediction: \" माता है. अध्यात्मिक ज्ञान मेरा पिता है. धर्माचरण मेरा बंधू \"\n"
          ]
        }
      ]
    },
    {
      "cell_type": "code",
      "source": [
        "# predicting the next 400 charecters\n",
        "for i in range(400):   # Number of characters including spaces\n",
        "    x_pred = np.zeros((1, seq_length, n_vocab))\n",
        "    for t, char in enumerate(sentence):\n",
        "        x_pred[0, t, char_to_int[char]] = 1.\n",
        "\n",
        "    preds = model.predict(x_pred, verbose=0)[0]\n",
        "    next_index = sample(preds)\n",
        "    next_char = int_to_char[next_index]\n",
        "\n",
        "    generated += next_char\n",
        "    sentence = sentence[1:] + next_char\n",
        "\n",
        "    sys.stdout.write(next_char)\n",
        "    sys.stdout.flush()\n",
        "print()\n"
      ],
      "metadata": {
        "colab": {
          "base_uri": "https://localhost:8080/"
        },
        "id": "9z8CmfHUaLGT",
        "outputId": "10d306d7-d1d2-4aa7-c522-66cbbda52b5a"
      },
      "execution_count": 22,
      "outputs": [
        {
          "output_type": "stream",
          "name": "stdout",
          "text": [
            "है. वही सुव्वव्म्रे को लोगा की अपनी आत्वति से में तक उसका लाण वन्ह्रण को ता प\n",
            "रे समला है. धर सोश बदल जो समयक गन कररे वाले वाली के भाजन समें आप उनकी उसकर मिलकत जब फदट भी शरी से माधन से उसकूर वह शरण जो चालण जो मिमेष है की बार इसही अत्योिशि को प्रत्रि को सहैववही से प्रद्यि है.इल की अपनी भोजी को अपनी स्वच्कि से छाश मानि को अपनी प्राप्ति को भी फी शत्ति सा पुण वह एक ला पाआज आपक्रा भी भदी है, मे सकता हो \n"
          ]
        }
      ]
    },
    {
      "cell_type": "code",
      "source": [
        "import matplotlib.pyplot as plt\n",
        "\n",
        "# Single LSTM model loss\n",
        "loss_single_lstm = history.history['loss']\n",
        "epochs_single_lstm = range(1, len(loss_single_lstm) + 1)\n",
        "\n",
        "# Stacked LSTM model loss\n",
        "loss_stacked_lstm = history2.history['loss']\n",
        "epochs_stacked_lstm = range(1, len(loss_stacked_lstm) + 1)\n",
        "\n",
        "# Create a plot of the loss for both models\n",
        "plt.plot(epochs_single_lstm, loss_single_lstm, 'y', label='Single LSTM')\n",
        "plt.plot(epochs_stacked_lstm, loss_stacked_lstm, 'b', label='Stacked LSTM')\n",
        "plt.title('Model Loss Comparison')\n",
        "plt.xlabel('Epoch')\n",
        "plt.ylabel('Loss')\n",
        "plt.legend()\n",
        "plt.show()"
      ],
      "metadata": {
        "colab": {
          "base_uri": "https://localhost:8080/",
          "height": 472
        },
        "id": "MGjTEJx6Zddo",
        "outputId": "819c2221-7898-43a3-c132-7b06d6f80a4e"
      },
      "execution_count": 19,
      "outputs": [
        {
          "output_type": "display_data",
          "data": {
            "text/plain": [
              "<Figure size 640x480 with 1 Axes>"
            ],
            "image/png": "[encoded data removed]"
          },
          "metadata": {}
        }
      ]
    }
  ]
}